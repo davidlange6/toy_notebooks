{
 "cells": [
  {
   "cell_type": "markdown",
   "metadata": {},
   "source": [
    "This notebook looks at the networking needs for the transatlantic link and the US Tier-1 plus Tier-2 facilities (assuming the current mix of facilities). This thinking can be generalized, but in this notebook there are some national specific concepts programmed in.\n",
    "\n",
    "Known problems\n",
    "\n",
    "Transatlantic: Missing shutdown year model; Missing processing versions"
   ]
  },
  {
   "cell_type": "code",
   "execution_count": 22,
   "metadata": {
    "collapsed": true
   },
   "outputs": [],
   "source": [
    "from __future__ import print_function\n",
    "def transatlantic_network_model(model,dataProduced):\n",
    "    YEARS=dataProduced.keys()\n",
    "    YEARS.sort()\n",
    "    TYPES=[]\n",
    "    TIERS=[]\n",
    "    for year in YEARS:\n",
    "        types_of_data = dataProduced[year].keys()\n",
    "        for t in types_of_data: \n",
    "            if t not in TYPES:\n",
    "                TYPES.append(t)\n",
    "            for tier in dataProduced[year][t]:\n",
    "                if tier not in TIERS:\n",
    "                    TIERS.append(tier)\n",
    "\n",
    "    PETA=1.e15\n",
    "    transatlantic={}\n",
    "    ta_model = model['transatlantic_network']\n",
    "    for year in YEARS:\n",
    "        transatlantic[year]=0.\n",
    "        for tier in TIERS:\n",
    "            for t in TYPES:\n",
    "                if t in dataProduced[year] and tier in dataProduced[year][t]:\n",
    "                    if tier in ta_model:\n",
    "                        transatlantic[year]+=dataProduced[year][t][tier]*ta_model[tier]\n",
    "                    else:\n",
    "                        transatlantic[year]+=dataProduced[year][t][tier]*ta_model['default']\n",
    "                        \n",
    "    print(\"Network needs per year (PB)\")\n",
    "    for year in YEARS:\n",
    "        str = '%5d %5d' % (year,transatlantic[year]/PETA)\n",
    "        print (str)\n",
    "    \n",
    "    return\n",
    "\n",
    "\n",
    "            \n"
   ]
  },
  {
   "cell_type": "code",
   "execution_count": 23,
   "metadata": {
    "collapsed": true
   },
   "outputs": [],
   "source": [
    "def network_model_tier1(model,dataProduced):\n",
    "    \n",
    "    #inbound traffic\n",
    "    # transfers for T1 tape and disk from sites\n",
    "    #outbound traffic\n",
    "    # transfers to T2\n",
    "    # remote read for premixing\n",
    "    # remote read for analysis\n",
    "    return\n"
   ]
  },
  {
   "cell_type": "code",
   "execution_count": null,
   "metadata": {
    "collapsed": true
   },
   "outputs": [],
   "source": [
    "def network_model_tier2(model,dataProduced):\n",
    "    \n",
    "    #inbound traffic\n",
    "    # transfers for T2 disk from sites\n",
    "    #outbound traffic\n",
    "    # transfers to T1 for data/mc produced\n",
    "    # remote read for analysis\n",
    "    \n",
    "    return\n",
    "\n"
   ]
  },
  {
   "cell_type": "code",
   "execution_count": 24,
   "metadata": {
    "collapsed": false
   },
   "outputs": [
    {
     "name": "stdout",
     "output_type": "stream",
     "text": [
      "Network needs per year (PB)\n",
      " 2016    13\n",
      " 2017    13\n",
      " 2018    13\n",
      " 2019     9\n",
      " 2020     9\n",
      " 2021    19\n",
      " 2022    19\n",
      " 2023    19\n",
      " 2024    11\n",
      " 2025    43\n",
      " 2026   202\n",
      " 2027   499\n",
      " 2028   499\n",
      " 2029   499\n",
      " 2030   199\n"
     ]
    }
   ],
   "source": [
    "%run notebook_importer.ipynb\n",
    "%matplotlib inline\n",
    "import pylab\n",
    "pylab.rcParams['figure.figsize'] = 10, 6\n",
    "\n",
    "from resource_runner import run_computing_model\n",
    "import resource_cpu\n",
    "import CostEvolution\n",
    "\n",
    "jsons=['json/RelyOnMiniAOD.json', 'json/Analysis.json', 'json/2018changes.json', 'json/IntroduceNanoAOD.json'] \n",
    "model=resource_cpu.create_model(jsons )\n",
    "model['names']=jsons\n",
    "cost_models=CostEvolution.define_cost_model()\n",
    "model['cost_model']=cost_models\n",
    "\n",
    "metrics,details=run_computing_model(model)\n",
    "dataProduced=details['dataProduced']\n",
    "\n",
    "#how much data from each data tier will we transfer across the atlantic\n",
    "#this ignores the concept of prompt reco being done at CERN...\n",
    "model['transatlantic_network']= { 'default' : 1.0-0.4, #all data/mc we don't produce in US\n",
    "                                  'RAW' : 0.4, #US share of RAW data\n",
    "                                  'USER' : 0.0 #no transfers of USER data\n",
    "                                }\n",
    "\n",
    "model['premixing'] = {'size_per_event' : 'hi there'}\n",
    "model['national_tier_model'] = { 'nTier2' : 7}\n",
    "transatlantic_network_model(model,dataProduced)\n",
    "network_model_tier1(model,dataProduced)\n",
    "network_model_tier2(model,dataProduced)\n"
   ]
  }
 ],
 "metadata": {
  "kernelspec": {
   "display_name": "Python [Root]",
   "language": "python",
   "name": "Python [Root]"
  },
  "language_info": {
   "codemirror_mode": {
    "name": "ipython",
    "version": 2
   },
   "file_extension": ".py",
   "mimetype": "text/x-python",
   "name": "python",
   "nbconvert_exporter": "python",
   "pygments_lexer": "ipython2",
   "version": "2.7.12"
  }
 },
 "nbformat": 4,
 "nbformat_minor": 0
}
