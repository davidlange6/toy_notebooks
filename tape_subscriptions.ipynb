{
 "cells": [
  {
   "cell_type": "code",
   "execution_count": 29,
   "metadata": {},
   "outputs": [
    {
     "name": "stdout",
     "output_type": "stream",
     "text": [
      "0 1539568028.999999999999999999999999999998 now_sec\n",
      "1 /LogMonitor/Run2012D-v1/RAW dataset_name\n",
      "2 557315 dataset_id\n",
      "3 y dataset_is_open\n",
      "4 1348765642.50834 create_time\n",
      "5 null update_time\n",
      "6 /LogMonitor/Run2012D-v1/RAW#5810fa64-2ff7-11e2-9d5d-842b2b4671d8 block_name\n",
      "7 3970074 block_id\n",
      "8 1 block_files\n",
      "9 862222 block_bytes\n",
      "10 n block_is_open\n",
      "11 1353075127.37014 block_time_create\n",
      "12 1353076085.29089 block_time_update\n",
      "13 T0_CH_CERN_MSS node_name\n",
      "14 2 node_id\n",
      "15 n br_is_active\n",
      "16 0 br_src_files\n",
      "17 0 br_src_bytes\n",
      "18 1 br_dest_files\n",
      "19 862222 br_dest_bytes\n",
      "20 1 br_node_files\n",
      "21 862222 br_node_btyes\n",
      "22 0 br_xfer_files\n",
      "23 0 br_xfer_bytes\n",
      "24 y br_is_custodial\n",
      "25 18 br_user_group_id\n",
      "26 1353075127 replica_time_create\n",
      "27 1353336461.59835 replica_time_updater\n",
      "Done reading phedex info\n",
      "3734521\n",
      "1.83652338705e+17\n"
     ]
    }
   ],
   "source": [
    "import gzip\n",
    "import csv\n",
    "\n",
    "phedex_columns= ['now_sec','dataset_name','dataset_id','dataset_is_open','create_time',\n",
    "                'update_time','block_name','block_id','block_files','block_bytes',\n",
    "                'block_is_open','block_time_create','block_time_update',\n",
    "                'node_name','node_id','br_is_active','br_src_files',\n",
    "                'br_src_bytes','br_dest_files','br_dest_bytes',\n",
    "                'br_node_files','br_node_btyes','br_xfer_files',\n",
    "                'br_xfer_bytes','br_is_custodial','br_user_group_id',\n",
    "                'replica_time_create','replica_time_updater']\n",
    "phedex_colmap={}\n",
    "for i in range(len(phedex_columns)):\n",
    "    phedex_colmap[phedex_columns[i]]=i\n",
    "\n",
    "dataset_col=phedex_colmap['dataset_name']\n",
    "site_col=phedex_colmap['node_name']\n",
    "block_col=phedex_colmap['block_name']\n",
    "replicaTime_col=phedex_colmap['replica_time_create']\n",
    "size_col=phedex_colmap['block_bytes']\n",
    "phedex_info={}\n",
    "n=0\n",
    "fmt='%Y-%m-%d'\n",
    "import datetime\n",
    "import numpy\n",
    "sumBytes=0\n",
    "with gzip.open('phedex_det.txt.gz') as csvfile:\n",
    "    reader = csv.reader(csvfile, delimiter=',')\n",
    "    for row in reader:\n",
    "        if 'MSS' not in row[site_col]: continue\n",
    "\n",
    "        t=datetime.datetime.fromtimestamp(float(row[replicaTime_col]))\n",
    "#        tf=t.strftime(fmt)\n",
    "        rTime=numpy.datetime64(t)\n",
    "        key=(row[dataset_col],row[block_col],row[site_col])\n",
    "        if key in phedex_info:\n",
    "            print 'duplicate',key\n",
    "            break\n",
    "        phedex_info[key]=(rTime,float(row[size_col]))\n",
    "        sumBytes+=float(row[size_col])\n",
    "            \n",
    "        if n==0:\n",
    "            for i in range(len(phedex_columns)):\n",
    "                print i,row[i],phedex_columns[i]\n",
    "        #if n==3: break\n",
    "        n=n+1\n",
    "     \n",
    "print(\"Done reading phedex info\")\n",
    "print len(phedex_info)\n",
    "print sumBytes"
   ]
  },
  {
   "cell_type": "code",
   "execution_count": 30,
   "metadata": {},
   "outputs": [
    {
     "name": "stdout",
     "output_type": "stream",
     "text": [
      "2007-06-01T17:28:00.520030 2018-10-15T02:57:36.000000\n"
     ]
    }
   ],
   "source": [
    "\n",
    "dates=sorted(set([i[0] for i in phedex_info.values()]))\n",
    "\n",
    "print dates[0],dates[-1]"
   ]
  },
  {
   "cell_type": "code",
   "execution_count": 56,
   "metadata": {},
   "outputs": [
    {
     "name": "stdout",
     "output_type": "stream",
     "text": [
      "4154\n",
      "4154\n",
      "[1.22929886e-04 0.00000000e+00 0.00000000e+00 0.00000000e+00\n",
      " 0.00000000e+00 0.00000000e+00 0.00000000e+00 0.00000000e+00\n",
      " 0.00000000e+00 0.00000000e+00 0.00000000e+00 0.00000000e+00\n",
      " 0.00000000e+00 0.00000000e+00 0.00000000e+00 0.00000000e+00\n",
      " 0.00000000e+00 0.00000000e+00 0.00000000e+00 0.00000000e+00\n",
      " 0.00000000e+00 0.00000000e+00 0.00000000e+00 0.00000000e+00\n",
      " 1.00771787e-04 1.17713612e-06 0.00000000e+00 0.00000000e+00\n",
      " 0.00000000e+00 0.00000000e+00 0.00000000e+00 0.00000000e+00\n",
      " 0.00000000e+00 0.00000000e+00 0.00000000e+00 0.00000000e+00\n",
      " 0.00000000e+00 0.00000000e+00 0.00000000e+00 0.00000000e+00\n",
      " 0.00000000e+00 0.00000000e+00 0.00000000e+00 0.00000000e+00\n",
      " 0.00000000e+00 0.00000000e+00 0.00000000e+00 0.00000000e+00\n",
      " 0.00000000e+00 0.00000000e+00 0.00000000e+00 0.00000000e+00\n",
      " 0.00000000e+00 0.00000000e+00 0.00000000e+00 0.00000000e+00\n",
      " 0.00000000e+00 0.00000000e+00 0.00000000e+00 0.00000000e+00\n",
      " 0.00000000e+00 0.00000000e+00 0.00000000e+00 0.00000000e+00\n",
      " 0.00000000e+00 0.00000000e+00 0.00000000e+00 1.71886162e-06\n",
      " 0.00000000e+00 4.90142370e-05 0.00000000e+00 0.00000000e+00\n",
      " 6.31082498e-05 0.00000000e+00 0.00000000e+00 0.00000000e+00\n",
      " 0.00000000e+00 0.00000000e+00 0.00000000e+00 0.00000000e+00\n",
      " 0.00000000e+00 1.44589715e-05 0.00000000e+00 0.00000000e+00\n",
      " 0.00000000e+00 0.00000000e+00 0.00000000e+00 0.00000000e+00\n",
      " 0.00000000e+00 6.57973836e-06 1.46390577e-06 0.00000000e+00\n",
      " 0.00000000e+00 0.00000000e+00 4.57596021e-06 1.27080756e-05\n",
      " 0.00000000e+00 0.00000000e+00 0.00000000e+00 0.00000000e+00]\n",
      "T1_RU_JINR_MSS 5.29712100558\n",
      "T1_FR_CCIN2P3_MSS 9.05480624675\n",
      "T1_IT_CNAF_MSS 12.9097357565\n",
      "T1_DE_KIT_MSS 14.3599132724\n",
      "T1_US_FNAL_MSS 45.0598660033\n",
      "T1_ES_PIC_MSS 4.86868435184\n",
      "T1_UK_RAL_MSS 9.73166315357\n",
      "T0_CH_CERN_MSS 72.8020276128\n"
     ]
    }
   ],
   "source": [
    "\n",
    "histo=numpy.zeros(1+ int( (dates[-1]-dates[0]) / numpy.timedelta64(1,'D')) )\n",
    "histoCERN=numpy.zeros(1+ int( (dates[-1]-dates[0]) / numpy.timedelta64(1,'D')) )\n",
    "\n",
    "dateList=numpy.arange(dates[0],dates[-1],numpy.timedelta64(1,'D'))\n",
    "#print len(dateList)\n",
    "#print len(histo)\n",
    "\n",
    "keys=phedex_info.keys()\n",
    "sites={}\n",
    "for k in keys:\n",
    "    histo[int( (phedex_info[k][0]-dates[0])/numpy.timedelta64(1,'D'))] +=phedex_info[k][1]/1024./1024./1024./1024./1024.\n",
    "    if 'CERN' in k[2]:\n",
    "        histoCERN[int( (phedex_info[k][0]-dates[0])/numpy.timedelta64(1,'D'))] +=phedex_info[k][1]/1024./1024./1024./1024./1024.\n",
    "    sites[k[2]]=sites.get(k[2],0.)+phedex_info[k][1]/1024./1024./1024./1024./1024.\n",
    "\n",
    "#print histo[0:100]\n",
    "\n",
    "#at cern there is the castor space\n",
    "castorSpace= (81060 - 69829)/1024.\n",
    "histo[0]+=castorSpace\n",
    "histoCERN[0]+=castorSpace\n",
    "sites['T0_CH_CERN_MSS']+=castorSpace\n",
    "\n",
    "cumsum=numpy.cumsum(histo)\n",
    "cumsumCERN=numpy.cumsum(histoCERN)\n",
    "\n",
    "for site in sites:\n",
    "    print site,sites[site]"
   ]
  },
  {
   "cell_type": "code",
   "execution_count": 58,
   "metadata": {},
   "outputs": [
    {
     "name": "stdout",
     "output_type": "stream",
     "text": [
      "Last six months total 36.9293347085237\n",
      "Last six months Tier-1 18.187371371947137\n",
      "Last six months Tier-0 18.741963336576568\n",
      "Total 174.08381740277576\n",
      "Tier-1 101.28178978993469\n",
      "Tier-0 72.80202761284107\n"
     ]
    },
    {
     "data": {
      "image/png": "[encoded data removed]",
      "text/plain": [
       "<Figure size 720x432 with 1 Axes>"
      ]
     },
     "metadata": {},
     "output_type": "display_data"
    }
   ],
   "source": [
    "%matplotlib inline\n",
    "import pylab\n",
    "pylab.rcParams['figure.figsize'] = 10, 6\n",
    "\n",
    "pylab.plot(dateList,cumsum,linewidth=3)\n",
    "pylab.plot(dateList,cumsum-cumsumCERN,linewidth=3)\n",
    "pylab.plot(dateList,cumsumCERN,linewidth=3)\n",
    "\n",
    "pylab.xlabel('Date of replica on date')\n",
    "pylab.ylabel('PB of subscriptions currently active')\n",
    "pylab.ylim(ymin=0)\n",
    "pylab.xlim(xmin=numpy.datetime64('2014-01-01'))\n",
    "pylab.legend(['Total','Tier-1 (REBUS=165.5)','Tier-0 (REBUS=99)'],loc='best')\n",
    "pylab.grid()\n",
    "\n",
    "print 'Last six months total',cumsum[-1]-cumsum[-180]\n",
    "print 'Last six months Tier-1',(cumsum[-1]-cumsumCERN[-1])-(cumsum[-180]-cumsumCERN[-180])\n",
    "print 'Last six months Tier-0',cumsumCERN[-1]-cumsumCERN[-180]\n",
    "\n",
    "print 'Total',cumsum[-1]\n",
    "print 'Tier-1',(cumsum[-1]-cumsumCERN[-1])\n",
    "print 'Tier-0',cumsumCERN[-1]\n",
    "\n",
    "\n"
   ]
  },
  {
   "cell_type": "code",
   "execution_count": 59,
   "metadata": {},
   "outputs": [
    {
     "name": "stdout",
     "output_type": "stream",
     "text": [
      "T1_RU_JINR_MSS 5970 5424 5964\n",
      "T1_FR_CCIN2P3_MSS 10196 9272 10194\n",
      "T1_IT_CNAF_MSS 14561 13219 14535\n",
      "T1_DE_KIT_MSS 16160 14704 16167\n",
      "T1_US_FNAL_MSS 50697 46141 50732\n",
      "T1_ES_PIC_MSS 5478 4985 5481\n",
      "T1_UK_RAL_MSS 10956 9965 10956\n",
      "T0_CH_CERN_MSS 69829 74549 81967\n"
     ]
    }
   ],
   "source": [
    "import json\n",
    "import urllib2\n",
    "url = \"http://cmsmonitoring.web.cern.ch/cmsmonitoring/storageoverview/latest/StorageOverview.json\"\n",
    "response = urllib2.urlopen(url)\n",
    "data = response.read()\n",
    "values = json.loads(data)\n",
    "tape = values[\"Tape\"][\"Used\"]\n",
    "# CERN will not agree as I added the Castor space above\n",
    "for sitename in tape:\n",
    "    print sitename,tape[sitename],int(1024.*sites[sitename]),int(1.0995116*1024.*sites[sitename])"
   ]
  },
  {
   "cell_type": "code",
   "execution_count": 52,
   "metadata": {},
   "outputs": [
    {
     "data": {
      "text/plain": [
       "1.0995116277760002"
      ]
     },
     "execution_count": 52,
     "metadata": {},
     "output_type": "execute_result"
    }
   ],
   "source": [
    "#this is the error introduced if you use 10^9 bytes = 1GB \n",
    "1.024*1.024*1.024*1.024"
   ]
  },
  {
   "cell_type": "code",
   "execution_count": null,
   "metadata": {},
   "outputs": [],
   "source": []
  }
 ],
 "metadata": {
  "kernelspec": {
   "display_name": "Python [conda env:anaconda2]",
   "language": "python",
   "name": "conda-env-anaconda2-py"
  },
  "language_info": {
   "codemirror_mode": {
    "name": "ipython",
    "version": 2
   },
   "file_extension": ".py",
   "mimetype": "text/x-python",
   "name": "python",
   "nbconvert_exporter": "python",
   "pygments_lexer": "ipython2",
   "version": "2.7.15"
  }
 },
 "nbformat": 4,
 "nbformat_minor": 2
}
