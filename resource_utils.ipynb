{
 "cells": [
  {
   "cell_type": "code",
   "execution_count": null,
   "metadata": {
    "collapsed": true
   },
   "outputs": [],
   "source": [
    "from __future__ import absolute_import, division, print_function\n",
    "import json\n",
    "from collections import namedtuple"
   ]
  },
  {
   "cell_type": "code",
   "execution_count": null,
   "metadata": {
    "collapsed": true
   },
   "outputs": [],
   "source": [
    "def time_dependent_value(year=2016, values=None):\n",
    "    \"\"\"\n",
    "    :param year: Year for which we are looking for parameter\n",
    "    :param values: dictionary in the form {\"2016\": 1.0, \"2017\": 2.0}\n",
    "    :return: determined value, first year for which its valid (for calculating improvements from a known point)\n",
    "\n",
    "    \"\"\"\n",
    "\n",
    "    values = values or {}\n",
    "    value = None\n",
    "    lastYear = None\n",
    "    for deltaYear in sorted(values.keys()):\n",
    "        if int(year) >= int(deltaYear):\n",
    "            lastYear = int(deltaYear)\n",
    "            value = values[deltaYear]\n",
    "\n",
    "    return value, lastYear"
   ]
  },
  {
   "cell_type": "code",
   "execution_count": null,
   "metadata": {
    "collapsed": true
   },
   "outputs": [],
   "source": [
    "def interpolate_value(ramp, year):\n",
    "    \"\"\"\n",
    "    Takes a dictionary of the form\n",
    "    {\"2016\": x,\n",
    "     \"2020\": y,\n",
    "     ...\n",
    "     }\n",
    "\n",
    "     and returns x for year=2016, y for year=2020, and an interpolated value for 2017, 2018, 2019\n",
    "    \"\"\"\n",
    "\n",
    "    pastYear = 0\n",
    "    futureYear = 3000\n",
    "    value = None\n",
    "    for otherType in sorted(ramp):\n",
    "        otherYear = int(otherType)\n",
    "        if year == otherYear:  # We found the exact value\n",
    "            value = ramp[otherType]\n",
    "            break\n",
    "        if year - otherYear < year - pastYear and year > otherYear:\n",
    "            pastYear = otherYear\n",
    "        if otherYear > year:\n",
    "            futureYear = otherYear\n",
    "            break\n",
    "\n",
    "    if value is None:  # We didn't get an exact value, interpolate between two values\n",
    "        value = (ramp[str(pastYear)] + (year - pastYear) *\n",
    "                 (ramp[str(futureYear)] - ramp[str(pastYear)]) / (futureYear - pastYear))\n",
    "\n",
    "    return value"
   ]
  },
  {
   "cell_type": "code",
   "execution_count": null,
   "metadata": {
    "collapsed": true
   },
   "outputs": [],
   "source": [
    "SECONDS_PER_YEAR = 365.25 * 24 * 3600\n",
    "kilo = 1000\n",
    "mega = 1000 * kilo\n",
    "giga = 1000 * mega\n",
    "tera = 1000 * giga\n",
    "peta = 1000 * tera\n",
    "seconds_per_year = 86400 * 365\n",
    "seconds_per_month = 86400 * 30"
   ]
  },
  {
   "cell_type": "code",
   "execution_count": null,
   "metadata": {
    "collapsed": true
   },
   "outputs": [],
   "source": [
    "def updateDict(target,changes):\n",
    "    for k,v in changes.items():\n",
    "        if k in target and isinstance(target[k],dict):\n",
    "            updateDict(target[k],v)\n",
    "        else:\n",
    "            target[k]=v"
   ]
  },
  {
   "cell_type": "code",
   "execution_count": null,
   "metadata": {
    "collapsed": true
   },
   "outputs": [],
   "source": [
    "\n",
    "def configure(modelName):\n",
    "    import json\n",
    "    modelNames = ['json/BaseModel.json', 'json/RealisticModel.json']\n",
    "\n",
    "    if isinstance(modelName, basestring):\n",
    "        modelNames.append(modelName)\n",
    "    elif isinstance(modelName, list):\n",
    "        modelNames.extend(modelName)\n",
    "\n",
    "    model = {}\n",
    "    for modelName in modelNames:\n",
    "        #print(modelName)\n",
    "        with open(modelName, 'r') as modelFile:\n",
    "            modelChanges = json.load(modelFile)\n",
    "            updateDict(model,modelChanges)\n",
    "#            model.update(modelChanges)\n",
    "\n",
    "    return model"
   ]
  },
  {
   "cell_type": "code",
   "execution_count": null,
   "metadata": {
    "collapsed": true
   },
   "outputs": [],
   "source": [
    "def in_shutdown(model, year):\n",
    "    \"\"\"\n",
    "    :param model: The configuration dictionary\n",
    "    :param year: check if this year is in a shutdown period\n",
    "    :return: boolean for in shutdown, integer for last year not in shutdown\n",
    "    \"\"\"\n",
    "\n",
    "    inShutdown = year in model['shutdown_years']\n",
    "\n",
    "    while year in model['shutdown_years']:\n",
    "        year -= 1\n",
    "\n",
    "    return inShutdown, year"
   ]
  },
  {
   "cell_type": "code",
   "execution_count": null,
   "metadata": {
    "collapsed": true
   },
   "outputs": [],
   "source": [
    "def run_model(model, year, data_type='data'):\n",
    "    \"\"\"\n",
    "    :param model: The configuration dictionary\n",
    "    :param year: The year the model is being queried for\n",
    "    :param data_type: The type of data (MC or data)\n",
    "    :return: data events, in_shutdown\n",
    "    \"\"\"\n",
    "\n",
    "    RunModel = namedtuple('RunModel', 'events, in_shutdown')\n",
    "\n",
    "    inShutdown, lastRunningYear = in_shutdown(model, year)\n",
    "    events = 0\n",
    "    if not inShutdown:\n",
    "        triggerRate, basisYear = time_dependent_value(year, model['trigger_rate'])\n",
    "        liveFraction, basisYear = time_dependent_value(year, model['live_fraction'])\n",
    "        events = SECONDS_PER_YEAR * liveFraction * triggerRate\n",
    "    if data_type == 'mc':\n",
    "        events *= model['mc_event_factor']\n",
    "    return RunModel(events, inShutdown)"
   ]
  },
  {
   "cell_type": "code",
   "execution_count": null,
   "metadata": {
    "collapsed": true
   },
   "outputs": [],
   "source": [
    "def mc_event_model(model, year):\n",
    "    \"\"\"\n",
    "    Given the various types of MC and their fraction compared to data in mc_evolution,\n",
    "    for a the queried year, return the number of events needed to be simulated of each\n",
    "    \"MC year\" in that calendar year.\n",
    "\n",
    "    :param model: The configuration dictionary\n",
    "    :param year: The year the model is being queried for\n",
    "    :return: dictionary of {year1: events, year2: events} of types of events needed to be simualted\n",
    "    \"\"\"\n",
    "\n",
    "    mcEvolution = model['mc_evolution']\n",
    "    mcEvents = {}\n",
    "    for mcType, ramp in mcEvolution.items():\n",
    "        mcYear = int(mcType)\n",
    "\n",
    "        # First figure out what to base the number of MC events\n",
    "        currEvents = run_model(model, year).events\n",
    "        if in_shutdown(model, year)[0]:\n",
    "            lastYear = in_shutdown(model, year)[1]\n",
    "            lastEvents = run_model(model, lastYear).events\n",
    "        else:\n",
    "            lastEvents = 0\n",
    "\n",
    "        if mcYear > year:\n",
    "            futureEvents = run_model(model, mcYear).events\n",
    "        else:\n",
    "            futureEvents = 0\n",
    "        dataEvents = max(currEvents, lastEvents, futureEvents)\n",
    "\n",
    "        # TODO: Replace this bit of code with interpolate_value from utils.py\n",
    "        pastYear = 0\n",
    "        futureYear = 3000\n",
    "        mc_fraction = None\n",
    "        for otherType in sorted(ramp):\n",
    "            otherYear = int(otherType)\n",
    "            if year == otherYear:  # We found the exact value\n",
    "                mc_fraction = ramp[otherType]\n",
    "                break\n",
    "            if year - otherYear < year - pastYear and year > otherYear:\n",
    "                pastYear = otherYear\n",
    "            if otherYear > year:\n",
    "                futureYear = otherYear\n",
    "                break\n",
    "\n",
    "        if mc_fraction is None:  # We didn't get an exact value, interpolate between two values\n",
    "            mc_fraction = (ramp[str(pastYear)] + (year - pastYear) *\n",
    "                           (ramp[str(futureYear)] - ramp[str(pastYear)]) / (futureYear - pastYear))\n",
    "\n",
    "        mcEvents[mcType] = mc_fraction * dataEvents\n",
    "\n",
    "    return mcEvents"
   ]
  },
  {
   "cell_type": "code",
   "execution_count": null,
   "metadata": {
    "collapsed": false
   },
   "outputs": [],
   "source": [
    "def performance_by_year(model, year, tier, data_type=None, kind=None):\n",
    "    \"\"\"\n",
    "    Return various performance metrics based on the year under consideration\n",
    "    (allows for step and continuous variations)\n",
    "\n",
    "    :param model: The model parameters\n",
    "    :param year: The year in which processing is done\n",
    "    :param tier: Data tier produced\n",
    "    :param data_type: data or mc\n",
    "    :param kind: The year flavor of MC or data. May differ from actual running year\n",
    "\n",
    "    :return:  tuple of cpu time (HS06 * s) and data size\n",
    "    \"\"\"\n",
    "\n",
    "    # If we don't specify flavors, assume we are talking about the current year\n",
    "\n",
    "    # TODO:  Big old hack for now because we don't have \"kind\" for data\n",
    "    if not kind:\n",
    "        # print year\n",
    "        kind = str(year)\n",
    "    #print(year)\n",
    "    if kind not in ['2017', '2026']:\n",
    "        if int(kind) >= 2025:\n",
    "            kind = '2026'\n",
    "        else:\n",
    "#            if int(kind) >= 2020:\n",
    "#                kind = '2021'\n",
    "#            else:\n",
    "            kind = '2017'\n",
    "\n",
    "# it gets worse - there is run 3\n",
    "    if kind == '2017' and year > 2020:\n",
    "        kind='2021'\n",
    "\n",
    "\n",
    "    kind = str(kind)\n",
    "\n",
    "    try:\n",
    "        for modelYear in sorted(model['tier_sizes'][tier].keys()):\n",
    "            if int(kind) >= int(modelYear):\n",
    "                sizePerEvent = model['tier_sizes'][tier][modelYear]\n",
    "    except KeyError:  # Storage model does not know this tier\n",
    "        sizePerEvent = None\n",
    "\n",
    "    try:\n",
    "        # Look up the normalized processing time\n",
    "        for modelYear in sorted(model['cpu_time'][data_type][tier].keys()):\n",
    "            if int(kind) >= int(modelYear):\n",
    "                cpuPerEvent = model['cpu_time'][data_type][tier][modelYear]\n",
    "\n",
    "        # Apply the year by year correction\n",
    "        improvement_factor = 1.0\n",
    "        ramp = model['improvement_factors']['software_by_kind'][kind]\n",
    "        for improve_year in range(int(model['start_year']), int(year) + 1):\n",
    "            year_factor = interpolate_value(ramp, improve_year)\n",
    "            improvement_factor *= year_factor\n",
    "\n",
    "        cpuPerEvent = cpuPerEvent / improvement_factor\n",
    "    except KeyError:  # CPU model does not know this tier\n",
    "        cpuPerEvent = None\n",
    "\n",
    "    return cpuPerEvent, sizePerEvent\n"
   ]
  }
 ],
 "metadata": {
  "anaconda-cloud": {},
  "kernelspec": {
   "display_name": "Python [Root]",
   "language": "python",
   "name": "Python [Root]"
  },
  "language_info": {
   "codemirror_mode": {
    "name": "ipython",
    "version": 2
   },
   "file_extension": ".py",
   "mimetype": "text/x-python",
   "name": "python",
   "nbconvert_exporter": "python",
   "pygments_lexer": "ipython2",
   "version": "2.7.12"
  }
 },
 "nbformat": 4,
 "nbformat_minor": 0
}
