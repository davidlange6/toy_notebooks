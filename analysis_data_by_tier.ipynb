{
 "cells": [
  {
   "cell_type": "code",
   "execution_count": 4,
   "metadata": {},
   "outputs": [
    {
     "name": "stdout",
     "output_type": "stream",
     "text": [
      "/W2JetsToLNu_LHEWpT_0-50_TuneCP5_13TeV-amcnloFXFX-pythia8/RunIIFall17DRPremix-PU2017_94X_mc2017_realistic_v11-v1/AODSIM (20181012, 'T1_RU_JINR_Disk', 44362131640, '20180801', 42)\n",
      "/DoubleEG/Run2016F-17Jul2018-v1/MINIAOD (20181012, 'T2_US_MIT', 432248952686, '20180728', 42)\n",
      "/TTGamma_SingleLeptFromTbar_TuneCUETP8M1_14TeV-madgraph-pythia8/PhaseIITDRFall17MiniAOD-PU200_93X_upgrade2023_realistic_v2-v2/MINIAODSIM (20181012, 'T1_US_FNAL_Disk', 154373888042, '20180106', 42)\n",
      "/ChargedHiggs_HplusTB_HplusToTauNu_IntermediateMassNoNeutral_M-175_13TeV_amcatnlo_pythia8/RunIISummer16MiniAODv2-PUMoriond17_80X_mcRun2_asymptotic_2016_TrancheIV_v6-v1/MINIAODSIM (20181012, 'T1_US_FNAL_Disk', 105468730612, '20171229', 42)\n",
      "/TT_FCNC-aT2ZJ_Thadronic_ZToll_zeta_zct-MadGraph5-pythia8/RunIIFall17MiniAODv2-PU2017_12Apr2018_94X_mc2017_realistic_v14-v1/MINIAODSIM (20181012, 'T2_US_MIT', 28953517889, '20180726', 42)\n",
      "/SingleMuon/Run2017F-PromptReco-v1/AOD (20181012, 'T1_US_FNAL_Disk', 77881101232367, '20171111', 42)\n",
      "Done reading phedex info\n",
      "{0: 'date', 1: 'site', 2: 'datset', 3: 'size', 4: 'orig_date', 5: 'group'}\n",
      "146217\n"
     ]
    }
   ],
   "source": [
    "import gzip\n",
    "import csv\n",
    "\n",
    "phedex_columns={0: 'date',\n",
    "                1: 'site',\n",
    "                2: 'datset',\n",
    "                3: 'size',\n",
    "                4: 'orig_date',\n",
    "                5: 'group'}\n",
    "phedex_info={}\n",
    "n=0\n",
    "\n",
    "with gzip.open('phedex.out.gz') as csvfile:\n",
    "    reader = csv.reader(csvfile, delimiter=',')\n",
    "    for row in reader:\n",
    "        n=n+1\n",
    "        key=(row[2],row[4],row[1])\n",
    "        if 'null' in row[5]:\n",
    "            row[5]=-99\n",
    "            #print row\n",
    "        if 'T3_' in row[1]: continue\n",
    "        if row[5]!='42': continue\n",
    "        phedex_info[key]=(int(row[0]),row[1],int(row[3]),row[4],int(row[5]))\n",
    "        if n<10: print row[2],phedex_info[key]\n",
    "        \n",
    "     \n",
    "print(\"Done reading phedex info\")\n",
    "print phedex_columns\n",
    "print len(phedex_info)"
   ]
  },
  {
   "cell_type": "code",
   "execution_count": 22,
   "metadata": {},
   "outputs": [
    {
     "name": "stdout",
     "output_type": "stream",
     "text": [
      "                          Tier AnaOps Size (TB)    Fract\n",
      "                         total           39968   100.0\n",
      "                           AOD            9705    24.3\n",
      "                        AODSIM            6873    17.2\n",
      "                           RAW            5975    15.0\n",
      "                    MINIAODSIM            3583     9.0\n",
      "                       MINIAOD            3129     7.8\n",
      "                  GEN-SIM-RECO            2633     6.6\n",
      "                      RAW-RECO            2387     6.0\n",
      "                      ALCARECO            1974     4.9\n",
      "                   GEN-SIM-RAW             914     2.3\n",
      "              GEN-SIM-DIGI-RAW             587     1.5\n",
      "                          USER             556     1.4\n",
      "                       GEN-SIM             513     1.3\n",
      "                           GEN             399     1.0\n",
      "             GEN-SIM-RECODEBUG             301     0.8\n",
      "                          RECO             300     0.8\n",
      "                           LHE              88     0.2\n",
      "                    NANOAODSIM              14     0.0\n",
      "              GEN-SIM-RAW-RECO              10     0.0\n",
      "                       NANOAOD               8     0.0\n",
      "                     RAWAODSIM               5     0.0\n",
      "                  FEVTDEBUGHLT               1     0.0\n",
      "                         DQMIO               0     0.0\n",
      "     GEN-SIM-DIGI-RAW-HLTDEBUG               0     0.0\n"
     ]
    }
   ],
   "source": [
    "tiers={}\n",
    "for ds in phedex_info:\n",
    "    tier=ds[0].split('/')[-1]\n",
    "    tiers[tier]=tiers.get(tier,0)+phedex_info[ds][2]\n",
    "    tiers['total']=tiers.get('total',0)+phedex_info[ds][2]\n",
    "    \n",
    "keys=reversed(sorted(tiers.items(), key=lambda kv: kv[1]))\n",
    "\n",
    "print '%30s %15s   %6s' % ('Tier', 'AnaOps Size (TB)','Fract')\n",
    "for t,dummy in keys:\n",
    "    print '%30s %15d   %5.1f'%(t,int(tiers[t]/1024./1024./1024./1024.),100*tiers[t]/float(tiers['total']))\n"
   ]
  },
  {
   "cell_type": "code",
   "execution_count": null,
   "metadata": {},
   "outputs": [],
   "source": []
  }
 ],
 "metadata": {
  "kernelspec": {
   "display_name": "Python [conda env:anaconda2]",
   "language": "python",
   "name": "conda-env-anaconda2-py"
  },
  "language_info": {
   "codemirror_mode": {
    "name": "ipython",
    "version": 2
   },
   "file_extension": ".py",
   "mimetype": "text/x-python",
   "name": "python",
   "nbconvert_exporter": "python",
   "pygments_lexer": "ipython2",
   "version": "2.7.15"
  }
 },
 "nbformat": 4,
 "nbformat_minor": 2
}
