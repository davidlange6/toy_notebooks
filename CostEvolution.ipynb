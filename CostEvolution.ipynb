{
 "cells": [
  {
   "cell_type": "markdown",
   "metadata": {},
   "source": [
    "Cost model notebook - Goals are to implement\n",
    "1) A suite of models for cost evolution of a resource. Driven by json like interface for passing parameters \n",
    "2) Cost models per unit of resource for CMS CPU, disk, tape\n",
    "3) Annual cost for CMS CPU, disk, tape assuming resources are purchased \"just in time\" - eg, for the year in which they are first needed. This cost also assumes a lifetime for each resource (parameter that is json driven)\n",
    "4) Visualize results as table and figure showing annual costs."
   ]
  },
  {
   "cell_type": "code",
   "execution_count": 208,
   "metadata": {
    "collapsed": false
   },
   "outputs": [],
   "source": [
    "#A totally generic cost evolution model. Currently supported evolutions are: \n",
    "# 1) 'Constant' : the cost never changes\n",
    "# 2) 'ConstantEvolution' : An annual cost reduction per hs06, PB\n",
    "import numpy\n",
    "def costPerResourceUnit(datesToEstimate,modelParameters):\n",
    "    model=modelParameters['model']\n",
    "    if model == 'Constant':\n",
    "        return modelParameters['cost0']\n",
    "    if model == 'ConstantEvolution':\n",
    "        t0=modelParameters['t0']\n",
    "        baselineCost=modelParameters['cost0']\n",
    "        reductionPerYear=modelParameters['annualCostReduction']\n",
    "        return baselineCost*numpy.power(1.+reductionPerYear,-1*(datesToEstimate-t0))\n",
    "    return None\n",
    "\n",
    "def computeCost(datesToEstimate,neededResources,costs,modelParameters):\n",
    "    resourceLifetime=modelParameters['lifetime']\n",
    "    startOfLife=modelParameters['programStart'] #assume linear buying between start of program and datesToEstimate[0]\n",
    "    \n",
    "    #purely new stuff - can be negative...\n",
    "    extraResourcesToPurchase = neededResources - numpy.append([0.],neededResources)[:-1]\n",
    "    \n",
    "    # now add in resources that must be replaced\n",
    "    resourcesToPurchase = numpy.copy(extraResourcesToPurchase)\n",
    "    for i,y in enumerate(datesToEstimate):\n",
    "        if startOfLife > y + resourceLifetime: #no retirements yet, the project is too new\n",
    "            continue\n",
    "        if datesToEstimate[0] > y-resourceLifetime: #assume linear purchasing up to first year\n",
    "            lostResources = neededResources[0] / float((datesToEstimate[0]-startOfLife)+1.)\n",
    "        else:\n",
    "            lostResources = resourcesToPurchase[i-resourceLifetime]\n",
    "        resourcesToPurchase[i]+=lostResources\n",
    "        if resourcesToPurchase[i]<0. : resourcesToPurchase[i]=0.\n",
    "        \n",
    "    costPerYear = resourcesToPurchase * costs\n",
    "    return costPerYear"
   ]
  },
  {
   "cell_type": "code",
   "execution_count": 210,
   "metadata": {
    "collapsed": false
   },
   "outputs": [
    {
     "name": "stdout",
     "output_type": "stream",
     "text": [
      "Year    kHS06  PBDisk  PBTape   Cost   Cost   Cost\n",
      "2016    951.3   130.0   130.0   11.6   11.6    2.1\n",
      "2017    951.3   130.0   130.0    1.2    1.2    0.2\n",
      "2018   1109.8   130.0   130.0    2.9    1.2    0.4\n",
      "2019   2061.1   150.0   150.0   11.6    2.8    0.4\n",
      "2020    951.3   160.0   160.0    0.0    2.0    0.3\n",
      "2021   1331.8   210.0   210.0    5.3    5.2    0.8\n",
      "2022    951.3   230.0   230.0    7.4   13.2    2.6\n",
      "2023   1109.8   250.0   250.0    2.9    2.8    0.7\n",
      "2024   1236.7   275.0   275.0    4.3    3.2    0.9\n",
      "2025   4756.5   300.0   300.0   50.3    4.8    0.9\n",
      "2026  11098.4  1000.0  1000.0   69.8   58.0    7.3\n",
      "2027  26953.3  2200.0  2200.0  179.8  101.2   23.8\n",
      "2028  25367.8  2600.0  2600.0    0.0   45.2   22.6\n",
      "2029  23782.3  2900.0  2900.0    0.0   26.8   15.7\n",
      "2030  22196.9  3100.0  3100.0    0.0   19.2   10.9\n"
     ]
    }
   ],
   "source": [
    "import numpy\n",
    "def computeCosts(years,cost_models, needed_resources):\n",
    "    costs={}\n",
    "    costs['cpu'] = costPerResourceUnit(years,cost_models['cpu'])\n",
    "    costs['disk'] = costPerResourceUnit(years,cost_models['disk'])\n",
    "    costs['tape'] = costPerResourceUnit(years,cost_models['tape'])\n",
    "\n",
    "    costPerYear={}\n",
    "    costPerYear['cpu'] = computeCost(years,needed_resources['cpu'],costs['cpu'],\n",
    "                                     cost_models['cpu'])\n",
    "    costPerYear['disk'] = computeCost(years,needed_resources['disk'],costs['disk'],\n",
    "                                      cost_models['disk'])\n",
    "    costPerYear['tape'] = computeCost(years,needed_resources['tape'],costs['tape'],\n",
    "                                      cost_models['tape'])\n",
    "\n",
    "    return costPerYear\n",
    "\n",
    "def printCosts(years,needed_resources,costsPerYear):\n",
    "    print 'Year    kHS06  PBDisk  PBTape   Cost   Cost   Cost'\n",
    "    for i,y in enumerate(years):\n",
    "        print '%4d  %7.1f %7.1f %7.1f %6.1f %6.1f %6.1f' %(y,\n",
    "                                                          needed_resources['cpu'][i]/1000.,\n",
    "                                                          needed_resources['disk'][i],\n",
    "                                                          needed_resources['tape'][i],\n",
    "                                                          costsPerYear['cpu'][i],\n",
    "                                                          costsPerYear['disk'][i],\n",
    "                                                          costsPerYear['tape'][i])\n",
    "    return\n"
   ]
  },
  {
   "cell_type": "code",
   "execution_count": 211,
   "metadata": {
    "collapsed": false
   },
   "outputs": [],
   "source": [
    "%matplotlib inline\n",
    "import pylab\n",
    "pylab.rcParams['figure.figsize'] = 10, 6\n",
    "import numpy\n",
    "\n",
    "def plotCosts(fignum,years,costList,costLabels):\n",
    "    colList=['b', 'g', 'r', 'c', 'm', 'y', 'k', 'w']\n",
    "    pylab.figure(fignum)\n",
    "    #skip the first year as the cost for that year does not make sense\n",
    "    pList=[]\n",
    "    prevSum=numpy.zeros(len(costList[0])-1)\n",
    "    for i in range(len(costList)):\n",
    "        p=pylab.bar(years[1:]-0.4,costList[i][1:],0.8,bottom=prevSum,color=colList[i])\n",
    "        prevSum=prevSum + costList[i][1:]\n",
    "        pList.append(p)\n",
    "    pylab.xlabel('Year',fontsize=15)\n",
    "    pylab.ylabel('Annual Cost ($M)',fontsize=15)\n",
    "    pylab.xlim(xmin=years[1]-0.5,xmax=years[-1]+0.5)\n",
    "    pylab.legend(reversed(pList),reversed(costLabels),loc='best')\n",
    "    \n",
    "\n"
   ]
  },
  {
   "cell_type": "code",
   "execution_count": 209,
   "metadata": {
    "collapsed": false
   },
   "outputs": [],
   "source": [
    "import numpy\n",
    "\n",
    "def define_cost_model():\n",
    "    years = numpy.arange(2016,2031)\n",
    "\n",
    "    cost_models={}\n",
    "    # $11/HS06 \n",
    "    cost_models['cpu'] = { 'model': 'ConstantEvolution',\n",
    "                           't0': 2017,\n",
    "                           'cost0': 11.0*1e-6,\n",
    "                           'annualCostReduction': 0.15,\n",
    "                           'lifetime' : 6,\n",
    "                           'programStart' : 2008}\n",
    "\n",
    "    # $40/TB - translate into PB, but we need two copies of data at each site (this is the wrong spot for this factor!)\n",
    "    # Frank/Brian agree that 110/TB of installed space is about right for US currently\n",
    "    cost_models['disk'] = { 'model': 'ConstantEvolution',\n",
    "                            't0': 2017,\n",
    "                            'cost0': 110.0*1000.0*1e-6,\n",
    "                            'annualCostReduction': 0.15,\n",
    "                            'lifetime' : 6,\n",
    "                            'programStart' : 2008}\n",
    "\n",
    "    # $3/TB - I made this up - need feedback from Dave\n",
    "    cost_models['tape'] = { 'model': 'ConstantEvolution',\n",
    "                            't0': 2017,\n",
    "                            'cost0': 10.0*1000.0*1e-6,\n",
    "                            'annualCostReduction': 0.15,\n",
    "                            'lifetime' : 6,\n",
    "                            'programStart' : 2008}\n",
    "    return cost_models\n",
    "\n"
   ]
  }
 ],
 "metadata": {
  "anaconda-cloud": {},
  "kernelspec": {
   "display_name": "Python [Root]",
   "language": "python",
   "name": "Python [Root]"
  },
  "language_info": {
   "codemirror_mode": {
    "name": "ipython",
    "version": 2
   },
   "file_extension": ".py",
   "mimetype": "text/x-python",
   "name": "python",
   "nbconvert_exporter": "python",
   "pygments_lexer": "ipython2",
   "version": "2.7.12"
  }
 },
 "nbformat": 4,
 "nbformat_minor": 0
}
