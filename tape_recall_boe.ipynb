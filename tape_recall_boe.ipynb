{
 "cells": [
  {
   "cell_type": "markdown",
   "metadata": {},
   "source": [
    "Goal : estimate interesting tape recall needs for HL-LHC:\n",
    "\n",
    " - tape writing for\n",
    "   - raw data only\n",
    "   - raw data + tier0 output products\n",
    " - tape writing at FNAL for raw\n",
    " - tape recall to do raw in a month\n",
    " - tape recall to do aod in a month\n"
   ]
  },
  {
   "cell_type": "code",
   "execution_count": 34,
   "metadata": {},
   "outputs": [
    {
     "name": "stdout",
     "output_type": "stream",
     "text": [
      "\n"
     ]
    }
   ],
   "source": [
    "seconds_per_year = 6.5e6\n",
    "hlt_output_rate = 7500\n",
    "months_of_datataking = 8\n",
    "seconds_per_month = 3600*24*30\n",
    "MBs_per_drive = 1200. # see below for explaination\n",
    "\n",
    "size_mb_raw = 7.4\n",
    "size_mb_all_analysis = 2.0\n",
    "# currently alca + skims are about the same as AOD, assume it stays that way\n",
    "size_mb_other = 2.0 \n",
    "\n",
    "usa_fraction = 0.4"
   ]
  },
  {
   "cell_type": "code",
   "execution_count": 11,
   "metadata": {},
   "outputs": [],
   "source": [
    "def tape_rate(size_per_event_to_tape,months):\n",
    "    return seconds_per_year * hlt_output_rate * size_per_event_to_tape / (months * seconds_per_month)"
   ]
  },
  {
   "cell_type": "code",
   "execution_count": 36,
   "metadata": {},
   "outputs": [
    {
     "name": "stdout",
     "output_type": "stream",
     "text": [
      "17.0 GB/second, or 14.0 drives\n"
     ]
    }
   ],
   "source": [
    "# Compute the tape writing rate for CERN for just the RAW data\n",
    "   \n",
    "total_MBs_RAW= tape_rate(size_mb_raw, months_of_datataking)\n",
    "print total_MBs_RAW // 1000, 'GB/second, or', total_MBs_RAW // MBs_per_drive, \"drives\""
   ]
  },
  {
   "cell_type": "code",
   "execution_count": 37,
   "metadata": {},
   "outputs": [
    {
     "name": "stdout",
     "output_type": "stream",
     "text": [
      "26.0 GB/second, or 22.0 drives\n"
     ]
    }
   ],
   "source": [
    "# Compute the tape writing rate for CERN for the RAW data and derived data\n",
    "\n",
    "total_MBs_RAW_plus_DER= tape_rate(size_mb_raw+size_mb_all_analysis+size_mb_other, months_of_datataking) \n",
    "print total_MBs_RAW_plus_DER // 1000, 'GB/second, or', total_MBs_RAW_plus_DER // MBs_per_drive, \"drives\""
   ]
  },
  {
   "cell_type": "code",
   "execution_count": 38,
   "metadata": {},
   "outputs": [
    {
     "name": "stdout",
     "output_type": "stream",
     "text": [
      "6.0 GB/second 5.0 drives\n"
     ]
    }
   ],
   "source": [
    "# Compute the tape writing raw for FNAL for the RAW data\n",
    "\n",
    "us_MBs_RAW = tape_rate(usa_fraction*size_mb_raw, months_of_datataking) \n",
    "print us_MBs_RAW // 1000, 'GB/second', us_MBs_RAW // MBs_per_drive, \"drives\""
   ]
  },
  {
   "cell_type": "code",
   "execution_count": 39,
   "metadata": {},
   "outputs": [
    {
     "name": "stdout",
     "output_type": "stream",
     "text": [
      "139.0 GB/second 115.0 drives\n"
     ]
    }
   ],
   "source": [
    "# Compute the tape reading rate to recall the RAW in a month\n",
    "total_MBs_recall_RAW = tape_rate(size_mb_raw,1) \n",
    "print total_MBs_recall_RAW // 1000, 'GB/second', total_MBs_recall_RAW // MBs_per_drive, \"drives\""
   ]
  },
  {
   "cell_type": "code",
   "execution_count": 40,
   "metadata": {},
   "outputs": [
    {
     "name": "stdout",
     "output_type": "stream",
     "text": [
      "33.0 GB/second 28.0 drives\n"
     ]
    }
   ],
   "source": [
    "#Compute the tape reading rate to recall the AOD in a month\n",
    "total_MBs_recall_AOD = tape_rate(size_mb_all_analysis*0.9,1) \n",
    "print total_MBs_recall_AOD // 1000, 'GB/second', total_MBs_recall_AOD // MBs_per_drive, \"drives\"\n"
   ]
  },
  {
   "cell_type": "markdown",
   "metadata": {},
   "source": [
    "I was worried about relative improvement of tape capacity vs tape read speed. From Wikipedia, the capacity and uncompressed read rates are\n",
    "\n",
    "| Generation |    Capacity (GB) |  Read speed (MB/sec) |\n",
    "| --- | ---------- | ------------ | \n",
    "| LTO-1 |   100  |   20  |\n",
    "| LTO-2 |   200  |   40 |\n",
    "| LTO-3 |   400  |   80 |\n",
    "| LTO-4 |   800  |   120 |\n",
    "| LTO-5 |  1500  |   140 |\n",
    "| LTO-6 |  2500  |   160 |\n",
    "| LTO-7 |  6000  |   300 |\n",
    "| LTO-8 | 12000  |   360 |\n",
    "| LTO-9 | 24000  |   708  |\n",
    "| LTO-10| 48000  |   1100 |\n",
    "\n",
    "\n",
    "\n",
    "\n"
   ]
  },
  {
   "cell_type": "markdown",
   "metadata": {},
   "source": [
    "Then we can consider how many tape drives we need. Two factors to consider\n",
    "a) what generation of LTO we might be at - lets say LTO-11, which is not terribly conservative especially given that the LTO projections may not be met. So this means a maximum read rate of something like 1500 MB/second. (extrapolating from LTO-10)\n",
    "\n",
    "b) what is the efficienty achievable? Say 80%? \n",
    "\n",
    "So 1.2GB/second per drive"
   ]
  },
  {
   "cell_type": "markdown",
   "metadata": {},
   "source": [
    "Information on tape drives\n",
    "\n",
    "FNAL migrating to LTO8 tapes and IBM TS4500 tape libraries\n",
    "\n",
    "LTO - LTO- generation 8 - 750 MB/second/drive [assumes some compression rate] - roadmap to gen 12 includes 12x increase in tape capacity. Released December 2017\n",
    "\n",
    "Per https://en.wikipedia.org/wiki/Linear_Tape-Open gen-10 is 2750 MB/second recall (eg, about 4x LT08) - transfer speeds in gen 11-12 are not yet estimated\n",
    "But per https://www.itjungle.com/2017/10/25/lto-consortium-pushes-roadmap-gen-12/ , guesses 20% increase in speed per generation (which matches the gain between LTO-7 and LTO-8)\n",
    "\n",
    "Per https://www.itjungle.com/2014/09/15/tfh091514-story05/, gen 10 is 2020 (sounds more realistic that this is the timeline for LTO gen 9 at this point... (my naive opinion))\n",
    "\n",
    "Last tech roadmap from Bernd - slide 15 of https://indico.cern.ch/event/658060/contributions/2889027/attachments/1622791/2583013/tech_market_BPS_Mar2018_v9pptx.pdf\n",
    "\n",
    "https://indico.cern.ch/event/637013/contributions/2739332/attachments/1542528/2419646/OutlookForArchivalStorageAtCERN_MichaelDavis.pdf\n",
    "\n",
    "is partly interesting as it shows the expectations for LT0-8 read rates were not met.\n",
    "Should we use compressed or uncompressed figures? (2.5x different)\n",
    "\n",
    "Moving generations means replacing old tape if you want the gains. - backwards compatibility is limited in current LTO products.\n",
    "\n",
    "So what can we optimistically conclude about tape read/write capabilities in 2026? Seems we can assume LTO-11 which may give something between 360*1.2*1.2*1.2 and 360*2*2*2 (MB/second)\n",
    "\n",
    "I make a different extrapolation above.. clearly the factor of 2 each generation is no longer happening, so is not realistic to consider."
   ]
  },
  {
   "cell_type": "code",
   "execution_count": 25,
   "metadata": {},
   "outputs": [
    {
     "name": "stdout",
     "output_type": "stream",
     "text": [
      "0.62208 up to 2.88 GB/second\n"
     ]
    }
   ],
   "source": [
    "tape_speed_min = 360*1.2*1.2*1.2\n",
    "tape_speed_max = 360*2*2*2\n",
    "print tape_speed_min /1000,\"up to\", tape_speed_max /1000., 'GB/second'"
   ]
  },
  {
   "cell_type": "code",
   "execution_count": 21,
   "metadata": {},
   "outputs": [
    {
     "data": {
      "text/plain": [
       "(0, 12.657828164100646)"
      ]
     },
     "execution_count": 21,
     "metadata": {},
     "output_type": "execute_result"
    },
    {
     "data": {
      "image/png": "[encoded data removed]",
      "text/plain": [
       "<Figure size 432x288 with 1 Axes>"
      ]
     },
     "metadata": {},
     "output_type": "display_data"
    }
   ],
   "source": [
    "# so lets plot the ratio\n",
    "import numpy\n",
    "%matplotlib inline\n",
    "import pylab\n",
    "ltoGen = numpy.arange(1,11)\n",
    "cap= numpy.array([100,200,400,800,1500,2500,6000,12000,24000,48000],dtype=numpy.float32)\n",
    "read=numpy.array([20,40,80,120,140,160,300,360,708,1100],dtype=numpy.float32)\n",
    "\n",
    "hoursToRead=(1./3600.)*cap/(0.001*read)\n",
    "\n",
    "pylab.plot(ltoGen,hoursToRead,linewidth=3)\n",
    "pylab.xlabel('LTO generation')\n",
    "pylab.ylabel('Time to read full tape (Hours)')\n",
    "pylab.ylim(ymin=0)"
   ]
  },
  {
   "cell_type": "code",
   "execution_count": null,
   "metadata": {},
   "outputs": [],
   "source": []
  }
 ],
 "metadata": {
  "kernelspec": {
   "display_name": "Python [conda env:anaconda2]",
   "language": "python",
   "name": "conda-env-anaconda2-py"
  },
  "language_info": {
   "codemirror_mode": {
    "name": "ipython",
    "version": 2
   },
   "file_extension": ".py",
   "mimetype": "text/x-python",
   "name": "python",
   "nbconvert_exporter": "python",
   "pygments_lexer": "ipython2",
   "version": "2.7.15"
  }
 },
 "nbformat": 4,
 "nbformat_minor": 2
}
