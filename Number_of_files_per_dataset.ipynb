{
 "cells": [
  {
   "cell_type": "code",
   "execution_count": 31,
   "metadata": {},
   "outputs": [
    {
     "name": "stdout",
     "output_type": "stream",
     "text": [
      "Done reading dbs info\n"
     ]
    }
   ],
   "source": [
    "import gzip\n",
    "import csv\n",
    "\n",
    "dbs_info={}\n",
    "dbs_columns={}\n",
    "with gzip.open('dbs_events_181022.csv.gz') as csvfile:\n",
    "    reader = csv.reader(csvfile, delimiter=',')\n",
    "    n=0\n",
    "    for row in reader:\n",
    "        if n==0:\n",
    "            for i,a in enumerate(row[1:]):\n",
    "                dbs_columns[a]=i\n",
    "        else:        \n",
    "            dbs_info[row[0]]=tuple(row[1:])\n",
    "        n=n+1\n",
    "print(\"Done reading dbs info\")"
   ]
  },
  {
   "cell_type": "code",
   "execution_count": 33,
   "metadata": {},
   "outputs": [
    {
     "name": "stdout",
     "output_type": "stream",
     "text": [
      "Done reading phedex info\n",
      "0\n",
      "0\n"
     ]
    }
   ],
   "source": [
    "# read phedex \n",
    "import gzip\n",
    "import csv\n",
    "\n",
    "phedex_columns= ['now_sec','dataset_name','dataset_id','dataset_is_open','create_time',\n",
    "                'update_time','block_name','block_id','block_files','block_bytes',\n",
    "                'block_is_open','block_time_create','block_time_update',\n",
    "                'node_name','node_id','br_is_active','br_src_files',\n",
    "                'br_src_bytes','br_dest_files','br_dest_bytes',\n",
    "                'br_node_files','br_node_btyes','br_xfer_files',\n",
    "                'br_xfer_bytes','br_is_custodial','br_user_group_id',\n",
    "                'replica_time_create','replica_time_updater']\n",
    "phedex_colmap={}\n",
    "for i in range(len(phedex_columns)):\n",
    "    phedex_colmap[phedex_columns[i]]=i\n",
    "\n",
    "dataset_col=phedex_colmap['dataset_name']\n",
    "site_col=phedex_colmap['node_name']\n",
    "block_col=phedex_colmap['block_name']\n",
    "replicaTime_col=phedex_colmap['replica_time_create']\n",
    "size_col=phedex_colmap['block_bytes']\n",
    "phedex_info={}\n",
    "n=0\n",
    "fmt='%Y-%m-%d'\n",
    "import datetime\n",
    "import numpy\n",
    "sumBytes=0\n",
    "cern_info={}\n",
    "with gzip.open('phedex_det.txt.gz') as csvfile:\n",
    "    reader = csv.reader(csvfile, delimiter=',')\n",
    "    for row in reader:\n",
    "        if 'MSS' not in row[site_col]: continue\n",
    "        if 'CERN' not in row[site_col]: continue\n",
    "        if row[dataset_col] in dbs_info:\n",
    "            nfiles=dbs_info[row[dataset_col]]\n",
    "        #key=(row[dataset_col],row[block_col],row[site_col])\n",
    "            cern_info[row[dataset_col]]=nfiles\n",
    "print(\"Done reading phedex info\")\n",
    "#print len(phedex_info)\n",
    "#print sumBytes"
   ]
  },
  {
   "cell_type": "code",
   "execution_count": 34,
   "metadata": {},
   "outputs": [],
   "source": [
    "import numpy\n",
    "vals_nf=[]\n",
    "vals_size=[]\n",
    "cern_nf=[]\n",
    "for ds in dbs_info:\n",
    "    if float(dbs_info[ds][0]) < 1459468800: continue #April 1, 2016\n",
    "    vals_nf.append(int(dbs_info[ds][2]))\n",
    "    vals_size.append(float(dbs_info[ds][1]))\n",
    "    if int(dbs_info[ds][2])>1e7:\n",
    "        if '/RAW' not in ds: print ds,dbs_info[ds],vals_size[-1]/float(vals_nf[-1])/1024./1024.,'MB per file'\n",
    "        if '/RECO' not in ds: print ds,dbs_info[ds],vals_size[-1]/float(vals_nf[-1])/1024./1024.,'MB per file'\n",
    "\n",
    "for ds in cern_info:\n",
    "    cern_nf.append(int(cern_info[ds][2]))\n",
    "\n",
    "cern_nf_np=numpy.array(cern_nf)\n",
    "vals_nf_np=numpy.array(vals_nf)\n",
    "vals_size_np=numpy.array(vals_size)"
   ]
  },
  {
   "cell_type": "code",
   "execution_count": 35,
   "metadata": {},
   "outputs": [
    {
     "name": "stdout",
     "output_type": "stream",
     "text": [
      "361913\n",
      "282603\n",
      "15\n",
      "0 0.0 - 2.5 : 137079 0.3787622992266097\n",
      "1 2.5 - 4.5 : 38351 0.48472975549372366\n",
      "2 4.5 - 8.5 : 37585 0.5885806809923932\n",
      "3 8.5 - 16.5 : 38109 0.6938794682699986\n",
      "4 16.5 - 32.5 : 35951 0.7932154965419866\n",
      "5 32.5 - 64.5 : 25093 0.8625498393260259\n",
      "6 64.5 - 128.5 : 17600 0.9111803112902824\n",
      "7 128.5 - 256.5 : 11569 0.9431465573217873\n",
      "8 256.5 - 512.5 : 7298 0.963311624616966\n",
      "9 512.5 - 1024.5 : 4925 0.9769198674819639\n",
      "10 1024.5 - 2048.5 : 3407 0.9863337321400447\n",
      "11 2048.5 - 100000.5 : 4917 0.9999198702450589\n",
      "12 100000.5 - 1000000.5 : 29 1.0\n"
     ]
    }
   ],
   "source": [
    "print len(vals_nf_np)\n",
    "print numpy.max(vals_nf_np)\n",
    "\n",
    "bins_nf=numpy.array([0,2.5,4.5,8.5,16.5,32.5,64.5,128.5,256.5,512.5,1024.5,2048.5,100000.5,1000000.5,70e6])\n",
    "nf_hist=numpy.bincount(numpy.digitize(vals_nf_np,bins_nf))\n",
    "cern_hist=numpy.bincount(numpy.digitize(cern_nf_np,bins_nf))\n",
    "tot=len(vals_nf_np)\n",
    "print len(bins_nf)\n",
    "running=0\n",
    "for i in range(len(bins_nf)-2):\n",
    "    running+=nf_hist[i+1]\n",
    "    print i,bins_nf[i],'-',bins_nf[i+1],':',nf_hist[i+1],running/float(tot)\n",
    "\n",
    "    "
   ]
  },
  {
   "cell_type": "code",
   "execution_count": 19,
   "metadata": {},
   "outputs": [
    {
     "data": {
      "text/plain": [
       "[<matplotlib.lines.Line2D at 0x12f206910>]"
      ]
     },
     "execution_count": 19,
     "metadata": {},
     "output_type": "execute_result"
    },
    {
     "data": {
      "image/png": "[encoded data removed]",
      "text/plain": [
       "<Figure size 720x432 with 1 Axes>"
      ]
     },
     "metadata": {},
     "output_type": "display_data"
    }
   ],
   "source": [
    "%matplotlib inline\n",
    "import pylab\n",
    "pylab.rcParams['figure.figsize'] = 10, 6\n",
    "pylab.plot(nf_hist[1:])\n"
   ]
  },
  {
   "cell_type": "code",
   "execution_count": 36,
   "metadata": {},
   "outputs": [
    {
     "name": "stdout",
     "output_type": "stream",
     "text": [
      "361913.0 81124.42922374427\n",
      "[0.00000000e+00 3.78762299e-01 1.05967456e-01 1.03850925e-01\n",
      " 1.05298787e-01 9.93360283e-02 6.93343428e-02 4.86304720e-02\n",
      " 3.19662460e-02 2.01650673e-02 1.36082429e-02 9.41386466e-03\n",
      " 1.35861381e-02 8.01297549e-05]\n",
      "[0.00000000e+00 3.99732716e-01 1.25327729e-01 1.22899728e-01\n",
      " 9.20090183e-02 7.70431429e-02 5.70886425e-02 4.02456566e-02\n",
      " 2.87381533e-02 1.86180794e-02 1.29867480e-02 8.81425788e-03\n",
      " 1.64247166e-02 7.14118115e-05]\n",
      "[0.26342081 0.18743404 0.13930908 0.11651305 0.10891437 0.0987828\n",
      " 0.05825653 0.02026314 0.00506578 0.00204039]\n"
     ]
    },
    {
     "data": {
      "text/plain": [
       "([<matplotlib.axis.XTick at 0x11d376210>,\n",
       "  <matplotlib.axis.XTick at 0x11d37fc10>,\n",
       "  <matplotlib.axis.XTick at 0x11d37f550>,\n",
       "  <matplotlib.axis.XTick at 0x1207472d0>,\n",
       "  <matplotlib.axis.XTick at 0x120747810>,\n",
       "  <matplotlib.axis.XTick at 0x120747d50>,\n",
       "  <matplotlib.axis.XTick at 0x120751310>,\n",
       "  <matplotlib.axis.XTick at 0x120751890>,\n",
       "  <matplotlib.axis.XTick at 0x120751e10>,\n",
       "  <matplotlib.axis.XTick at 0x12075b3d0>],\n",
       " <a list of 10 Text xticklabel objects>)"
      ]
     },
     "execution_count": 36,
     "metadata": {},
     "output_type": "execute_result"
    },
    {
     "data": {
      "image/png": "[encoded data removed]",
      "text/plain": [
       "<Figure size 864x288 with 1 Axes>"
      ]
     },
     "metadata": {},
     "output_type": "display_data"
    }
   ],
   "source": [
    "pylab.rcParams['figure.figsize'] = 12, 4\n",
    "\n",
    "tape_recall_data_nfiles=numpy.array([21369.86301369863, 15205.479452054795, 11301.369863013699, 9452.054794520549, 8835.61643835616, 8013.698630136985, 4726.027397260271, 1643.8356164383551, 410.9589041095888, 165.52511415524816])\n",
    "\n",
    "sum1=float(numpy.sum(nf_hist))\n",
    "sum2=numpy.sum(tape_recall_data_nfiles)\n",
    "sum3=float(numpy.sum(cern_hist))\n",
    "print sum1,sum2\n",
    "nf_hist=nf_hist/sum1\n",
    "cern_hist=cern_hist/sum3\n",
    "tape_recall_data_nfiles=tape_recall_data_nfiles/sum2\n",
    "print nf_hist\n",
    "print cern_hist\n",
    "print tape_recall_data_nfiles\n",
    "pylab.plot(nf_hist[1:],linewidth=3)\n",
    "pylab.plot(cern_hist[1:],linewidth=3)\n",
    "pylab.plot(tape_recall_data_nfiles,linewidth=3)\n",
    "pylab.xlabel('Bin')\n",
    "pylab.ylabel('Fraction of datasets/recalls')\n",
    "\n",
    "pylab.legend(['Datasets','Datasets at CERN','Tape recalls'],loc='best')\n",
    "\n",
    "#pylab.xticks( [0,1,2,3,4,5,6,7,8,9])\n",
    "#pylab.yticks( numpy.arange(0,10))\n",
    "pylab.xticks(numpy.arange(0,10), ('0-2','3-4','5-8','9-16','17-32','33-64','65-128','129-256','256-512','513-1024'))\n",
    "#locs,labels=pylab.xticks()\n",
    "#print locs\n",
    "#print labels"
   ]
  },
  {
   "cell_type": "markdown",
   "metadata": {},
   "source": [
    "Add filesize to the things I look at - this matters for reading\n",
    "serpentine tape - LTO lacks traveling saleman style optimization that enterprise drives\n",
    "can do families by path but miss a hook to do this automatically - can it be something that goes into FTS, or xroot or hook in tape system to call plugin? \n",
    "\n",
    "can i use fts monitor to optimize tape families - 10-20 \n",
    "\n",
    "100 tape drives growing to 150-170 drives in Run 3 for Alice and LHCb (LTO-8) - but not expecting LTO-9 to be deployed at CERN for Run 3 - but new generation of IBM drives for ~400 GB/second would be expected\n",
    "\n",
    "\n",
    "\n",
    "\n"
   ]
  },
  {
   "cell_type": "code",
   "execution_count": null,
   "metadata": {},
   "outputs": [],
   "source": []
  }
 ],
 "metadata": {
  "kernelspec": {
   "display_name": "Python [conda env:anaconda2]",
   "language": "python",
   "name": "conda-env-anaconda2-py"
  },
  "language_info": {
   "codemirror_mode": {
    "name": "ipython",
    "version": 2
   },
   "file_extension": ".py",
   "mimetype": "text/x-python",
   "name": "python",
   "nbconvert_exporter": "python",
   "pygments_lexer": "ipython2",
   "version": "2.7.15"
  }
 },
 "nbformat": 4,
 "nbformat_minor": 2
}
